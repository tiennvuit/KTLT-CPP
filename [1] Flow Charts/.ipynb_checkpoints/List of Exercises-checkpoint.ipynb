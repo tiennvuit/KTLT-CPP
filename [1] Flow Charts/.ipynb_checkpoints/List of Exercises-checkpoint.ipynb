{
 "cells": [
  {
   "cell_type": "markdown",
   "metadata": {},
   "source": [
    "## Lists of Execises"
   ]
  },
  {
   "cell_type": "markdown",
   "metadata": {},
   "source": [
    "[001](Exercise001.cpp). Write a program allow input two points have coordinates are $(x_1, y_1)$ and $(x_2, y_2)$. Calculate `the distance` $d$ between these points and print it to screen."
   ]
  },
  {
   "cell_type": "markdown",
   "metadata": {},
   "source": [
    "[002](Exercise002.cpp). Write a program allow input radius $r$ of a circle $C$ in Oxy plane. Calculate `the area` $S$ of the circle and print it to screen."
   ]
  },
  {
   "cell_type": "markdown",
   "metadata": {},
   "source": [
    "[003](Exercise003.cpp). Write a program allow input radius $r$ of a circle $C$ in Oxy plane. Calculate `the perimeter` $P$ of the circle and print it to screen."
   ]
  },
  {
   "cell_type": "markdown",
   "metadata": {},
   "source": [
    "[004](Exercise004.cpp). Write a program allow input radius $r$ of sphere $S$. Calculate the `surface area` $S_{sa}$ of the sphere and print it to screen."
   ]
  },
  {
   "cell_type": "markdown",
   "metadata": {},
   "source": [
    "[005](Exercise005.cpp). Write a program allow input radius $r$ of sphere $S$. Calculate the `volume` $V$ of the sphere and print it to screen."
   ]
  },
  {
   "cell_type": "markdown",
   "metadata": {},
   "source": [
    "[006](Exercise006.cpp). The formula for converting degrees Celsius $C$ to degrees Fahrenheit $F$:\n",
    "\n",
    "$$F = \\frac{9}{5}C + 32$$\n",
    "\n",
    "Write a program allow convert from degrees C to degrees F."
   ]
  },
  {
   "cell_type": "markdown",
   "metadata": {},
   "source": [
    "[007](Exercise007.cpp). The formula for converting degrees Fahrenheit $F$ to degrees Celsius $C$:\n",
    "\n",
    "$$C = \\frac{5}{9}C - 32$$\n",
    "\n",
    "Write a program allow convert from degrees F to degrees C."
   ]
  },
  {
   "cell_type": "markdown",
   "metadata": {},
   "source": [
    "[008](Exercise008.cpp). Calculate `the perimeter` P of the `regular polygon` $n$ edges is inscribed in a circle of radius $r$.\n",
    "\n",
    "The formula for calculating `the perimeter` of a polygon is inscribed in a circle of radius $r$ is $P = 2 \\times n \\times r \\times \\sin(\\frac{\\pi}{n})$"
   ]
  },
  {
   "cell_type": "markdown",
   "metadata": {},
   "source": [
    "[009](Exercise009.cpp). Calculate `the area` P of the `regular polygon` $n$ edges is inscribed in a circle of radius $r$.\n",
    "\n",
    "The formula for calculating `the area` of a polygon is inscribed in a circle of radius $r$ is $P =\\frac{1}{2} \\times n \\times r^2 \\times \\sin(\\frac{2\\pi}{n})$"
   ]
  },
  {
   "cell_type": "markdown",
   "metadata": {},
   "source": [
    "[010](Exercise010.cpp). Give a triangle $ABC$ with three edges $A(x_A, y_A)$, $B(x_B, y_B)$, $C(x_C, y_C)$. Calculate `the perimeter` $P$  of this triangle."
   ]
  },
  {
   "cell_type": "markdown",
   "metadata": {},
   "source": [
    "[011](Exercise011.cpp). Give a triangle $ABC$ with three vertices $A(x_A, y_A)$, $B(x_B, y_B)$, $C(x_C, y_C)$. Calculate `the area` $S$ of this triangle."
   ]
  },
  {
   "cell_type": "markdown",
   "metadata": {},
   "source": [
    "[012](Exercise012.cpp). Write a program allow input a real value $x$. Calculate the values $x^7$ with $4$ multiplications."
   ]
  },
  {
   "cell_type": "markdown",
   "metadata": {},
   "source": [
    "[013](Exercise013.cpp). Write a program allow input a real value $x$. Calculate the values $x^{32}$ with $5$ multiplications."
   ]
  },
  {
   "cell_type": "markdown",
   "metadata": {},
   "source": [
    "[014](Exercise014.cpp). Write a program allow input a real value $x$. Calculate the values $x^{64}$ with $6$ multiplications."
   ]
  },
  {
   "cell_type": "markdown",
   "metadata": {},
   "source": [
    "[015](Exercise015.cpp). Write a program allow input a real value $x$. Calculate the values $x^{6}$ with $3$ multiplications."
   ]
  },
  {
   "cell_type": "markdown",
   "metadata": {},
   "source": [
    "[016](Exercise016.cpp). Write a program allow input a real value $x$. Calculate the values $x^{9}$ with $4$ multiplications."
   ]
  },
  {
   "cell_type": "markdown",
   "metadata": {},
   "source": [
    "[017](Exercise017.cpp). Write a program allow input a real value $x$. Calculate the values $x^{32}$ with `minimum number of multiplications`."
   ]
  },
  {
   "cell_type": "markdown",
   "metadata": {},
   "source": [
    "[018](Exercise018.cpp). Write a program allow input a real value $x$. Calculate the values $x^{12}$ with `minimum number of multiplications`."
   ]
  },
  {
   "cell_type": "markdown",
   "metadata": {},
   "source": [
    "[019](Exercise019.cpp). Write a program allow input a real value $x$. Calculate the values $x^{13}$ with `minimum number of multiplications`."
   ]
  },
  {
   "cell_type": "markdown",
   "metadata": {},
   "source": [
    "[020](Exercise020.cpp). Write a program allow input a real value $x$. Calculate the values $x^{14}$ with `minimum number of multiplications`."
   ]
  },
  {
   "cell_type": "markdown",
   "metadata": {},
   "source": [
    "[021](Exercise021.cpp). Write a program allow input a real value $x$. Calculate the values $x^{15}$ with `minimum number of multiplications`."
   ]
  },
  {
   "cell_type": "markdown",
   "metadata": {},
   "source": [
    "[022](Exercise022.cpp). Write a program allow input a `integer value` $n$. Find the `unit digit` of the number $n$."
   ]
  },
  {
   "cell_type": "markdown",
   "metadata": {},
   "source": [
    "[023](Exercise023.cpp). Write a program allow input a `integer value` $n$. Find the `tens digit` of the number $n$."
   ]
  },
  {
   "cell_type": "markdown",
   "metadata": {},
   "source": [
    "[024](Exercise024.cpp). Write a program allow input a `integer value` $n$. Find the `leading digit` of the number $n$."
   ]
  },
  {
   "cell_type": "markdown",
   "metadata": {},
   "source": [
    "[025](Exercise025.cpp). Write a program allow input two integer values $a$ and $b$. `Swap two values` $a$ and $b$ and print them to the screen."
   ]
  },
  {
   "cell_type": "markdown",
   "metadata": {},
   "source": [
    "[026](Exercise026.cpp). `Swap` two values of two integers $a$ and $b$ `without using intermediate operations`."
   ]
  },
  {
   "cell_type": "markdown",
   "metadata": {},
   "source": [
    "-----------"
   ]
  },
  {
   "cell_type": "markdown",
   "metadata": {},
   "source": [
    "[027](Exercise027.cpp). "
   ]
  },
  {
   "cell_type": "markdown",
   "metadata": {},
   "source": [
    "[028](Exercise028.cpp). "
   ]
  },
  {
   "cell_type": "markdown",
   "metadata": {},
   "source": [
    "[029](Exercise029.cpp). "
   ]
  },
  {
   "cell_type": "markdown",
   "metadata": {},
   "source": [
    "[030](Exercise030.cpp). "
   ]
  },
  {
   "cell_type": "markdown",
   "metadata": {},
   "source": [
    "[031](Exercise031.cpp). "
   ]
  },
  {
   "cell_type": "markdown",
   "metadata": {},
   "source": [
    "[032](Exercise032.cpp). "
   ]
  },
  {
   "cell_type": "markdown",
   "metadata": {},
   "source": [
    "[033](Exercise033.cpp)."
   ]
  },
  {
   "cell_type": "markdown",
   "metadata": {},
   "source": [
    "[034](Exercise034.cpp). "
   ]
  },
  {
   "cell_type": "markdown",
   "metadata": {},
   "source": [
    "[035](Exercise035.cpp). "
   ]
  },
  {
   "cell_type": "markdown",
   "metadata": {},
   "source": [
    "[036](Exercise036.cpp). "
   ]
  },
  {
   "cell_type": "markdown",
   "metadata": {},
   "source": [
    "[037](Exercise037.cpp). "
   ]
  },
  {
   "cell_type": "markdown",
   "metadata": {},
   "source": [
    "[038](Exercise038.cpp). "
   ]
  },
  {
   "cell_type": "markdown",
   "metadata": {},
   "source": [
    "[039](Exercise039.cpp). "
   ]
  },
  {
   "cell_type": "markdown",
   "metadata": {},
   "source": [
    "[040](Exercise040.cpp). "
   ]
  },
  {
   "cell_type": "markdown",
   "metadata": {},
   "source": [
    "[041](Exercise041.cpp). "
   ]
  },
  {
   "cell_type": "markdown",
   "metadata": {},
   "source": [
    "[042](Exercise042.cpp). "
   ]
  },
  {
   "cell_type": "markdown",
   "metadata": {},
   "source": [
    "[043](Exercise043.cpp). "
   ]
  },
  {
   "cell_type": "markdown",
   "metadata": {},
   "source": [
    "[044](Exercise044.cpp). "
   ]
  },
  {
   "cell_type": "markdown",
   "metadata": {},
   "source": [
    "[045](Exercise045.cpp). "
   ]
  },
  {
   "cell_type": "markdown",
   "metadata": {},
   "source": [
    "[046](Exercise046.cpp). "
   ]
  },
  {
   "cell_type": "markdown",
   "metadata": {},
   "source": [
    "[047](Exercise047.cpp). "
   ]
  },
  {
   "cell_type": "markdown",
   "metadata": {},
   "source": [
    "[048](Exercise048.cpp). "
   ]
  },
  {
   "cell_type": "markdown",
   "metadata": {},
   "source": [
    "[049](Exercise049.cpp). "
   ]
  },
  {
   "cell_type": "markdown",
   "metadata": {},
   "source": [
    "[050](Exercise050.cpp). "
   ]
  },
  {
   "cell_type": "markdown",
   "metadata": {},
   "source": [
    "[051](Exercise051.cpp). "
   ]
  },
  {
   "cell_type": "markdown",
   "metadata": {},
   "source": [
    "[052](Exercise052.cpp). "
   ]
  },
  {
   "cell_type": "markdown",
   "metadata": {},
   "source": [
    "[053](Exercise053.cpp). "
   ]
  },
  {
   "cell_type": "markdown",
   "metadata": {},
   "source": [
    "[054](Exercise054.cpp). "
   ]
  },
  {
   "cell_type": "markdown",
   "metadata": {},
   "source": [
    "[055](Exercise055.cpp). "
   ]
  },
  {
   "cell_type": "markdown",
   "metadata": {},
   "source": [
    "[056](Exercise056.cpp). "
   ]
  },
  {
   "cell_type": "markdown",
   "metadata": {},
   "source": [
    "[057](Exercise057.cpp). "
   ]
  },
  {
   "cell_type": "markdown",
   "metadata": {},
   "source": [
    "[058](Exercise058.cpp). "
   ]
  },
  {
   "cell_type": "markdown",
   "metadata": {},
   "source": [
    "[059](Exercise059.cpp). "
   ]
  },
  {
   "cell_type": "markdown",
   "metadata": {},
   "source": [
    "[060](Exercise060.cpp). "
   ]
  },
  {
   "cell_type": "markdown",
   "metadata": {},
   "source": [
    "[061](Exercise061.cpp). "
   ]
  },
  {
   "cell_type": "markdown",
   "metadata": {},
   "source": [
    "[062](Exercise062.cpp). "
   ]
  },
  {
   "cell_type": "markdown",
   "metadata": {},
   "source": [
    "[063](Exercise063.cpp). "
   ]
  },
  {
   "cell_type": "markdown",
   "metadata": {},
   "source": [
    "[064](Exercise064.cpp). "
   ]
  },
  {
   "cell_type": "markdown",
   "metadata": {},
   "source": [
    "[065](Exercise065.cpp). "
   ]
  },
  {
   "cell_type": "markdown",
   "metadata": {},
   "source": [
    "[066](Exercise066.cpp). "
   ]
  },
  {
   "cell_type": "markdown",
   "metadata": {},
   "source": [
    "[067](Exercise067.cpp). "
   ]
  },
  {
   "cell_type": "markdown",
   "metadata": {},
   "source": [
    "[068](Exercise068.cpp). "
   ]
  },
  {
   "cell_type": "markdown",
   "metadata": {},
   "source": [
    "[069](Exercise069.cpp). "
   ]
  },
  {
   "cell_type": "markdown",
   "metadata": {},
   "source": [
    "[070](Exercise070.cpp). "
   ]
  },
  {
   "cell_type": "markdown",
   "metadata": {},
   "source": [
    "[071](Exercise071.cpp). "
   ]
  },
  {
   "cell_type": "markdown",
   "metadata": {},
   "source": [
    "[072](Exercise072.cpp). "
   ]
  },
  {
   "cell_type": "markdown",
   "metadata": {},
   "source": [
    "[073](Exercise073.cpp). "
   ]
  },
  {
   "cell_type": "markdown",
   "metadata": {},
   "source": [
    "[074](Exercise074.cpp). "
   ]
  },
  {
   "cell_type": "markdown",
   "metadata": {},
   "source": [
    "[075](Exercise075.cpp). "
   ]
  },
  {
   "cell_type": "markdown",
   "metadata": {},
   "source": [
    "[076](Exercise076.cpp). "
   ]
  },
  {
   "cell_type": "markdown",
   "metadata": {},
   "source": [
    "[077](Exercise077.cpp). "
   ]
  },
  {
   "cell_type": "markdown",
   "metadata": {},
   "source": [
    "[078](Exercise078.cpp). "
   ]
  },
  {
   "cell_type": "markdown",
   "metadata": {},
   "source": [
    "[079](Exercise079.cpp). "
   ]
  },
  {
   "cell_type": "markdown",
   "metadata": {},
   "source": [
    "[080](Exercise080.cpp). "
   ]
  },
  {
   "cell_type": "markdown",
   "metadata": {},
   "source": [
    "[081](Exercise081.cpp). "
   ]
  },
  {
   "cell_type": "markdown",
   "metadata": {},
   "source": [
    "[082](Exercise082.cpp). "
   ]
  },
  {
   "cell_type": "markdown",
   "metadata": {},
   "source": [
    "[083](Exercise083.cpp). "
   ]
  },
  {
   "cell_type": "markdown",
   "metadata": {},
   "source": [
    "[084](Exercise084.cpp). "
   ]
  },
  {
   "cell_type": "markdown",
   "metadata": {},
   "source": [
    "[085](Exercise085.cpp). "
   ]
  },
  {
   "cell_type": "markdown",
   "metadata": {},
   "source": [
    "[086](Exercise086.cpp). "
   ]
  },
  {
   "cell_type": "markdown",
   "metadata": {},
   "source": [
    "[087](Exercise087.cpp). "
   ]
  },
  {
   "cell_type": "markdown",
   "metadata": {},
   "source": [
    "[088](Exercise088.cpp). "
   ]
  },
  {
   "cell_type": "markdown",
   "metadata": {},
   "source": [
    "[089](Exercise089.cpp). "
   ]
  },
  {
   "cell_type": "markdown",
   "metadata": {},
   "source": [
    "[090](Exercise090.cpp). "
   ]
  },
  {
   "cell_type": "markdown",
   "metadata": {},
   "source": [
    "[091](Exercise091.cpp). "
   ]
  },
  {
   "cell_type": "markdown",
   "metadata": {},
   "source": [
    "[092](Exercise092.cpp). "
   ]
  },
  {
   "cell_type": "markdown",
   "metadata": {},
   "source": [
    "[093](Exercise093.cpp). "
   ]
  },
  {
   "cell_type": "markdown",
   "metadata": {},
   "source": [
    "[094](Exercise094.cpp). "
   ]
  },
  {
   "cell_type": "markdown",
   "metadata": {},
   "source": [
    "[095](Exercise095.cpp). "
   ]
  },
  {
   "cell_type": "markdown",
   "metadata": {},
   "source": [
    "[096](Exercise096.cpp). "
   ]
  },
  {
   "cell_type": "markdown",
   "metadata": {},
   "source": [
    "[097](Exercise097.cpp). "
   ]
  },
  {
   "cell_type": "markdown",
   "metadata": {},
   "source": [
    "[098](Exercise098.cpp). "
   ]
  },
  {
   "cell_type": "markdown",
   "metadata": {},
   "source": [
    "[099](Exercise099.cpp). "
   ]
  },
  {
   "cell_type": "markdown",
   "metadata": {},
   "source": [
    "[100](Exercise100.cpp). "
   ]
  },
  {
   "cell_type": "markdown",
   "metadata": {},
   "source": [
    "[101](Exercise101.cpp). "
   ]
  },
  {
   "cell_type": "markdown",
   "metadata": {},
   "source": [
    "[102](Exercise102.cpp). "
   ]
  },
  {
   "cell_type": "markdown",
   "metadata": {},
   "source": [
    "[103](Exercise103.cpp). "
   ]
  },
  {
   "cell_type": "markdown",
   "metadata": {},
   "source": [
    "[104](Exercise104.cpp). "
   ]
  },
  {
   "cell_type": "markdown",
   "metadata": {},
   "source": [
    "[105](Exercise105.cpp). "
   ]
  },
  {
   "cell_type": "markdown",
   "metadata": {},
   "source": [
    "[106](Exercise106.cpp). "
   ]
  },
  {
   "cell_type": "markdown",
   "metadata": {},
   "source": [
    "[107](Exercise107.cpp). "
   ]
  },
  {
   "cell_type": "markdown",
   "metadata": {},
   "source": [
    "[108](Exercise108.cpp). "
   ]
  },
  {
   "cell_type": "markdown",
   "metadata": {},
   "source": [
    "[109](Exercise109.cpp). "
   ]
  },
  {
   "cell_type": "markdown",
   "metadata": {},
   "source": [
    "[110](Exercise110.cpp). "
   ]
  },
  {
   "cell_type": "markdown",
   "metadata": {},
   "source": [
    "[111](Exercise111.cpp). "
   ]
  },
  {
   "cell_type": "markdown",
   "metadata": {},
   "source": [
    "[112](Exercise112.cpp). "
   ]
  },
  {
   "cell_type": "markdown",
   "metadata": {},
   "source": [
    "[113](Exercise113.cpp). "
   ]
  },
  {
   "cell_type": "markdown",
   "metadata": {},
   "source": [
    "[114](Exercise114.cpp). "
   ]
  },
  {
   "cell_type": "markdown",
   "metadata": {},
   "source": [
    "[115](Exercise115.cpp). "
   ]
  },
  {
   "cell_type": "markdown",
   "metadata": {},
   "source": [
    "[116](Exercise116.cpp). "
   ]
  },
  {
   "cell_type": "markdown",
   "metadata": {},
   "source": [
    "[117](Exercise117.cpp). "
   ]
  },
  {
   "cell_type": "markdown",
   "metadata": {},
   "source": [
    "[118](Exercise118.cpp). "
   ]
  },
  {
   "cell_type": "markdown",
   "metadata": {},
   "source": [
    "[119](Exercise119.cpp). "
   ]
  },
  {
   "cell_type": "markdown",
   "metadata": {},
   "source": [
    "[120](Exercise120.cpp). "
   ]
  },
  {
   "cell_type": "markdown",
   "metadata": {},
   "source": [
    "[121](Exercise121.cpp). "
   ]
  },
  {
   "cell_type": "markdown",
   "metadata": {},
   "source": [
    "[122](Exercise122.cpp). "
   ]
  },
  {
   "cell_type": "markdown",
   "metadata": {},
   "source": [
    "[123](Exercise123.cpp). "
   ]
  },
  {
   "cell_type": "markdown",
   "metadata": {},
   "source": [
    "[124](Exercise124.cpp). "
   ]
  },
  {
   "cell_type": "markdown",
   "metadata": {},
   "source": [
    "[125](Exercise125.cpp). "
   ]
  },
  {
   "cell_type": "markdown",
   "metadata": {},
   "source": [
    "[126](Exercise126.cpp). "
   ]
  },
  {
   "cell_type": "markdown",
   "metadata": {},
   "source": [
    "[127](Exercise127.cpp). "
   ]
  },
  {
   "cell_type": "markdown",
   "metadata": {},
   "source": [
    "[128](Exercise128.cpp). "
   ]
  },
  {
   "cell_type": "markdown",
   "metadata": {},
   "source": [
    "[129](Exercise129.cpp). "
   ]
  },
  {
   "cell_type": "markdown",
   "metadata": {},
   "source": [
    "[130](Exercise130.cpp). "
   ]
  },
  {
   "cell_type": "markdown",
   "metadata": {},
   "source": [
    "[131](Exercise131.cpp). "
   ]
  },
  {
   "cell_type": "markdown",
   "metadata": {},
   "source": [
    "[132](Exercise132.cpp). "
   ]
  },
  {
   "cell_type": "markdown",
   "metadata": {},
   "source": [
    "[133](Exercise133.cpp). "
   ]
  },
  {
   "cell_type": "markdown",
   "metadata": {},
   "source": [
    "[134](Exercise134.cpp). "
   ]
  },
  {
   "cell_type": "markdown",
   "metadata": {},
   "source": [
    "[135](Exercise135.cpp). "
   ]
  },
  {
   "cell_type": "markdown",
   "metadata": {},
   "source": [
    "[136](Exercise136.cpp). "
   ]
  },
  {
   "cell_type": "markdown",
   "metadata": {},
   "source": [
    "[137](Exercise137.cpp). "
   ]
  },
  {
   "cell_type": "markdown",
   "metadata": {},
   "source": [
    "[138](Exercise138.cpp). "
   ]
  },
  {
   "cell_type": "markdown",
   "metadata": {},
   "source": [
    "[139](Exercise139.cpp). "
   ]
  },
  {
   "cell_type": "markdown",
   "metadata": {},
   "source": [
    "[140](Exercise140.cpp). "
   ]
  },
  {
   "cell_type": "markdown",
   "metadata": {},
   "source": [
    "[141](Exercise141.cpp). "
   ]
  },
  {
   "cell_type": "markdown",
   "metadata": {},
   "source": [
    "[142](Exercise142.cpp). "
   ]
  },
  {
   "cell_type": "markdown",
   "metadata": {},
   "source": [
    "[143](Exercise143.cpp). "
   ]
  },
  {
   "cell_type": "markdown",
   "metadata": {},
   "source": [
    "[144](Exercise144.cpp). "
   ]
  },
  {
   "cell_type": "markdown",
   "metadata": {},
   "source": [
    "[145](Exercise145.cpp). "
   ]
  },
  {
   "cell_type": "markdown",
   "metadata": {},
   "source": [
    "[146](Exercise146.cpp). "
   ]
  },
  {
   "cell_type": "markdown",
   "metadata": {},
   "source": [
    "[147](Exercise147.cpp)."
   ]
  },
  {
   "cell_type": "markdown",
   "metadata": {},
   "source": [
    "[148](Exercise148.cpp). "
   ]
  },
  {
   "cell_type": "markdown",
   "metadata": {},
   "source": [
    "[149](Exercise149.cpp). "
   ]
  },
  {
   "cell_type": "markdown",
   "metadata": {},
   "source": [
    "[150](Exercise150.cpp). "
   ]
  },
  {
   "cell_type": "markdown",
   "metadata": {},
   "source": [
    "[151](Exercise151.cpp). "
   ]
  },
  {
   "cell_type": "markdown",
   "metadata": {},
   "source": [
    "[152](Exercise152.cpp). "
   ]
  },
  {
   "cell_type": "markdown",
   "metadata": {},
   "source": [
    "[153](Exercise153.cpp). "
   ]
  },
  {
   "cell_type": "markdown",
   "metadata": {},
   "source": [
    "[154](Exercise154.cpp). "
   ]
  },
  {
   "cell_type": "markdown",
   "metadata": {},
   "source": [
    "[155](Exercise155.cpp). "
   ]
  },
  {
   "cell_type": "markdown",
   "metadata": {},
   "source": [
    "[156](Exercise156.cpp). "
   ]
  },
  {
   "cell_type": "markdown",
   "metadata": {},
   "source": [
    "[157](Exercise157.cpp). "
   ]
  },
  {
   "cell_type": "markdown",
   "metadata": {},
   "source": [
    "[158](Exercise158.cpp). "
   ]
  },
  {
   "cell_type": "markdown",
   "metadata": {},
   "source": [
    "[159](Exercise159.cpp). "
   ]
  },
  {
   "cell_type": "markdown",
   "metadata": {},
   "source": [
    "[160](Exercise160.cpp). "
   ]
  },
  {
   "cell_type": "markdown",
   "metadata": {},
   "source": [
    "[161](Exercise161.cpp). "
   ]
  },
  {
   "cell_type": "markdown",
   "metadata": {},
   "source": [
    "[162](Exercise162.cpp). "
   ]
  },
  {
   "cell_type": "markdown",
   "metadata": {},
   "source": [
    "[163](Exercise163.cpp). "
   ]
  },
  {
   "cell_type": "markdown",
   "metadata": {},
   "source": [
    "[164](Exercise164.cpp). "
   ]
  },
  {
   "cell_type": "markdown",
   "metadata": {},
   "source": [
    "[165](Exercise165.cpp). "
   ]
  },
  {
   "cell_type": "markdown",
   "metadata": {},
   "source": [
    "[166](Exercise167.cpp). "
   ]
  },
  {
   "cell_type": "markdown",
   "metadata": {},
   "source": [
    "[167](Exercise167.cpp). "
   ]
  },
  {
   "cell_type": "code",
   "execution_count": null,
   "metadata": {},
   "outputs": [],
   "source": []
  }
 ],
 "metadata": {
  "kernelspec": {
   "display_name": "C++14",
   "language": "C++14",
   "name": "xcpp14"
  },
  "language_info": {
   "codemirror_mode": "text/x-c++src",
   "file_extension": ".cpp",
   "mimetype": "text/x-c++src",
   "name": "c++",
   "version": "14"
  }
 },
 "nbformat": 4,
 "nbformat_minor": 2
}
