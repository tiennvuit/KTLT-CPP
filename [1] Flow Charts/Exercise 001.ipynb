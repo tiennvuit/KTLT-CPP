{
 "cells": [
  {
   "cell_type": "markdown",
   "metadata": {},
   "source": []
  },
  {
   "cell_type": "code",
   "execution_count": 1,
   "metadata": {},
   "outputs": [],
   "source": [
    "#include <iostream>\n",
    "#include <iomanip>\n",
    "using namespace std;\n",
    "\n",
    "void Nhap(int[], int&);\n",
    "void Xuat(int[], int);\n",
    "int Tong(int [],int);"
   ]
  },
  {
   "cell_type": "code",
   "execution_count": 2,
   "metadata": {},
   "outputs": [
    {
     "name": "stderr",
     "output_type": "stream",
     "text": [
      "\u001b[1minput_line_9:5:5: \u001b[0m\u001b[0;1;31merror: \u001b[0m\u001b[1muse of undeclared identifier 'Nhap'\u001b[0m\n",
      "    Nhap(a, n);\n",
      "\u001b[0;1;32m    ^\n",
      "\u001b[0m\u001b[1minput_line_9:7:5: \u001b[0m\u001b[0;1;31merror: \u001b[0m\u001b[1muse of undeclared identifier 'Xuat'\u001b[0m\n",
      "    Xuat(a, n);\n",
      "\u001b[0;1;32m    ^\n",
      "\u001b[0m"
     ]
    },
    {
     "ename": "Interpreter Error",
     "evalue": "",
     "output_type": "error",
     "traceback": [
      "Interpreter Error: "
     ]
    }
   ],
   "source": [
    "int main()\n",
    "{\n",
    "    int a[100];\n",
    "    int n;\n",
    "    Nhap(a, n);\n",
    "    cout <<\"\\nMang vua nhap: \\n\";\n",
    "    Xuat(a, n);\n",
    "    return 0;\n",
    "}"
   ]
  },
  {
   "cell_type": "code",
   "execution_count": 3,
   "metadata": {},
   "outputs": [
    {
     "name": "stderr",
     "output_type": "stream",
     "text": [
      "\u001b[1minput_line_10:12:1: \u001b[0m\u001b[0;1;31merror: \u001b[0m\u001b[1mfunction definition is not allowed here\u001b[0m\n",
      "{\n",
      "\u001b[0;1;32m^\n",
      "\u001b[0m"
     ]
    },
    {
     "ename": "Interpreter Error",
     "evalue": "",
     "output_type": "error",
     "traceback": [
      "Interpreter Error: "
     ]
    }
   ],
   "source": [
    "void Nhap(int a[], int&n)\n",
    "{\n",
    "    cout << \"Enter the number of element in array: \";\n",
    "    cin >> n;\n",
    "    for(int i = 0 ;i <= n-1;i++)\n",
    "    {\n",
    "        cin >> a[i];\n",
    "    }\n",
    "}\n",
    "\n",
    "void Xuat(int a[], int n)\n",
    "{\n",
    "    for(int i = 0 ;i <= n-1;i++)\n",
    "    {\n",
    "        cout << setw(4) << a[i];\n",
    "    }\n",
    "}"
   ]
  },
  {
   "cell_type": "code",
   "execution_count": null,
   "metadata": {},
   "outputs": [],
   "source": []
  }
 ],
 "metadata": {
  "kernelspec": {
   "display_name": "C++14",
   "language": "C++14",
   "name": "xcpp14"
  },
  "language_info": {
   "codemirror_mode": "text/x-c++src",
   "file_extension": ".cpp",
   "mimetype": "text/x-c++src",
   "name": "c++",
   "version": "14"
  }
 },
 "nbformat": 4,
 "nbformat_minor": 2
}
