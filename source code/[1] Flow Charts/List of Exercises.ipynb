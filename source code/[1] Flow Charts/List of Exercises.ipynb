{
 "cells": [
  {
   "cell_type": "markdown",
   "metadata": {},
   "source": [
    "## List of exercises"
   ]
  },
  {
   "cell_type": "markdown",
   "metadata": {},
   "source": [
    "[001](Exercise001.cpp). Write a program allow input two points $A(x_1, y_1)$ and $B(x_2, y_2)$. Calculate the `distance between two points` $d$ and print it to screen."
   ]
  },
  {
   "cell_type": "markdown",
   "metadata": {},
   "source": [
    "[002](Exercise002.cpp). Write a program allow input a radius *r* of circle *C* in $Oxy$ plane. Calculate `the area` $S$ of circle and print it to screen."
   ]
  },
  {
   "cell_type": "markdown",
   "metadata": {},
   "source": [
    "[003](Exercise003.cpp). Write a program allow input radius $r$ of a circle $C$ in Oxy plane. Calculate the `perimeter` $P$ of circle and print it to screen."
   ]
  },
  {
   "cell_type": "markdown",
   "metadata": {},
   "source": [
    "[004](Exercise004.cpp). Write a program allow input radius $r$ of a sphere $S$ in $Oxyz$ spatial. Calculate the `surface area` $S_{sa}$ of shepre and print it to screen."
   ]
  },
  {
   "cell_type": "markdown",
   "metadata": {},
   "source": [
    "[005](Exercise005.cpp). Write a program allow input radius $r$ of a sphere $S$ in $Oxyz$ spatial. Calculate the `volume` $V$ of this sphere and print it to screen."
   ]
  },
  {
   "cell_type": "markdown",
   "metadata": {},
   "source": [
    "[006](Exercise006.cpp). Give a fomular transform $C$ degree to $F$ degree following.\n",
    "\n",
    "$$F = \\frac{9}{5}C + 32$$\n",
    "\n",
    "Write a program allow convert from $C$ degree value to $F$ degree value."
   ]
  },
  {
   "cell_type": "markdown",
   "metadata": {},
   "source": [
    "[007](Exercise007.cpp). Give a fomular transform $F$ degree to $C$ degree following.\n",
    "\n",
    "$$F = \\frac{5}{9}C - 32$$\n",
    "\n",
    "Write a program allow convert from $F$ degree value to $C$ degree value."
   ]
  },
  {
   "cell_type": "markdown",
   "metadata": {},
   "source": [
    "[008](Exercise008.cpp). **Tính chu vi đa giác đều $n$ cạnh nội tiếp trong đường tròn bán kính $r$.**\n",
    "\n",
    "Công thức tính chu vi của đa giác đều nội tiếp đường tròn bán kính $r$ là $P = 2nr\\sin(\\frac{\\pi}{n})$"
   ]
  },
  {
   "cell_type": "markdown",
   "metadata": {},
   "source": [
    "[009](Exercise009.cpp). **Tính diện tích $S$ của đa giác đều $n$ cạnh nội tiếp đường trong đường tròn bán kính $r$**\n",
    "\n",
    "Công thức tính diện tích đa giác đều nội tiếp trong đường tròn bán kính $r$ là $S = \\frac{1}{2}nr^2\\sin(\\frac{2\\pi}{n})$"
   ]
  },
  {
   "cell_type": "markdown",
   "metadata": {},
   "source": [
    "[010](Exercise010.cpp). Give triangle $ABC$ with $3$ vertices $A$, $B$, $C$ have coordinates are $A(x_1, y_1)$, $B(x_2, y_2)$, $C(x_3, y_3)$. Calculate `the perimeter` $P$ of triangle $ABC$."
   ]
  },
  {
   "cell_type": "markdown",
   "metadata": {},
   "source": [
    "[011](Exercise011.cpp). Give triangle $ABC$ with $3$ vertices $A$, $B$, $C$ have coordinates are $A(x_1, y_1)$, $B(x_2, y_2)$, $C(x_3, y_3)$. Calculate `the area` $S$ of triangle $ABC$."
   ]
  },
  {
   "cell_type": "markdown",
   "metadata": {},
   "source": [
    "[012](Exercise012.cpp). "
   ]
  },
  {
   "cell_type": "markdown",
   "metadata": {},
   "source": [
    "[013](Exercise013.cpp). "
   ]
  },
  {
   "cell_type": "markdown",
   "metadata": {},
   "source": [
    "[014](Exercise014.cpp). "
   ]
  },
  {
   "cell_type": "markdown",
   "metadata": {},
   "source": [
    "[015](Exercise015.cpp). "
   ]
  },
  {
   "cell_type": "markdown",
   "metadata": {},
   "source": [
    "[016](Exercise016.cpp). "
   ]
  },
  {
   "cell_type": "markdown",
   "metadata": {},
   "source": [
    "[017](Exercise017.cpp). "
   ]
  },
  {
   "cell_type": "markdown",
   "metadata": {},
   "source": [
    "[018](Exercise018.cpp). "
   ]
  },
  {
   "cell_type": "markdown",
   "metadata": {},
   "source": [
    "[019](Exercise019.cpp). "
   ]
  },
  {
   "cell_type": "markdown",
   "metadata": {},
   "source": [
    "[020](Exercise020.cpp). "
   ]
  },
  {
   "cell_type": "markdown",
   "metadata": {},
   "source": []
  },
  {
   "cell_type": "markdown",
   "metadata": {},
   "source": []
  },
  {
   "cell_type": "markdown",
   "metadata": {},
   "source": []
  },
  {
   "cell_type": "markdown",
   "metadata": {},
   "source": []
  },
  {
   "cell_type": "markdown",
   "metadata": {},
   "source": []
  },
  {
   "cell_type": "markdown",
   "metadata": {},
   "source": []
  },
  {
   "cell_type": "markdown",
   "metadata": {},
   "source": []
  },
  {
   "cell_type": "markdown",
   "metadata": {},
   "source": []
  },
  {
   "cell_type": "markdown",
   "metadata": {},
   "source": []
  },
  {
   "cell_type": "markdown",
   "metadata": {},
   "source": []
  },
  {
   "cell_type": "markdown",
   "metadata": {},
   "source": []
  },
  {
   "cell_type": "markdown",
   "metadata": {},
   "source": []
  },
  {
   "cell_type": "markdown",
   "metadata": {},
   "source": []
  },
  {
   "cell_type": "markdown",
   "metadata": {},
   "source": []
  },
  {
   "cell_type": "markdown",
   "metadata": {},
   "source": []
  },
  {
   "cell_type": "markdown",
   "metadata": {},
   "source": []
  },
  {
   "cell_type": "markdown",
   "metadata": {},
   "source": []
  },
  {
   "cell_type": "markdown",
   "metadata": {},
   "source": []
  },
  {
   "cell_type": "markdown",
   "metadata": {},
   "source": []
  },
  {
   "cell_type": "markdown",
   "metadata": {},
   "source": []
  },
  {
   "cell_type": "markdown",
   "metadata": {},
   "source": []
  },
  {
   "cell_type": "markdown",
   "metadata": {},
   "source": []
  },
  {
   "cell_type": "markdown",
   "metadata": {},
   "source": []
  },
  {
   "cell_type": "markdown",
   "metadata": {},
   "source": []
  },
  {
   "cell_type": "markdown",
   "metadata": {},
   "source": []
  },
  {
   "cell_type": "markdown",
   "metadata": {},
   "source": []
  },
  {
   "cell_type": "markdown",
   "metadata": {},
   "source": []
  },
  {
   "cell_type": "markdown",
   "metadata": {},
   "source": []
  }
 ],
 "metadata": {
  "kernelspec": {
   "display_name": "Python 3",
   "language": "python",
   "name": "python3"
  },
  "language_info": {
   "codemirror_mode": {
    "name": "ipython",
    "version": 3
   },
   "file_extension": ".py",
   "mimetype": "text/x-python",
   "name": "python",
   "nbconvert_exporter": "python",
   "pygments_lexer": "ipython3",
   "version": "3.7.5"
  }
 },
 "nbformat": 4,
 "nbformat_minor": 2
}
